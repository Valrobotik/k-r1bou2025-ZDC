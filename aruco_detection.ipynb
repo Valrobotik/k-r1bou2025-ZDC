{
 "cells": [
  {
   "cell_type": "code",
   "execution_count": 15,
   "metadata": {},
   "outputs": [],
   "source": [
    "import cv2\n",
    "import time\n",
    "from IPython.display import clear_output\n",
    "import keyboard"
   ]
  },
  {
   "cell_type": "code",
   "execution_count": 17,
   "metadata": {},
   "outputs": [],
   "source": [
    "def recognize_arucos(img) :\n",
    "    arucoDict = cv2.aruco.getPredefinedDictionary(cv2.aruco.DICT_4X4_50)\n",
    "    params = cv2.aruco.DetectorParameters()\n",
    "    detector = cv2.aruco.ArucoDetector(arucoDict, params)\n",
    "    (corners, ids, rejected) = detector.detectMarkers(img)\n",
    "    return corners, ids, rejected\n",
    "\n",
    "def display_arucos(img) :\n",
    "    corners, ids, rejected = recognize_arucos(img)\n",
    "    clear_output(wait=True)\n",
    "    print(\"Detected Arucos: \")\n",
    "    try :\n",
    "        for i in range(len(ids)) :\n",
    "            print(\"ID: \", ids[i])\n",
    "            print(\"Corners: \", corners[i])\n",
    "            print()\n",
    "        print(\"Rejected :\")\n",
    "        for i in range(len(rejected)) :\n",
    "            print(\"ID: \", rejected[i])\n",
    "        cv2.aruco.drawDetectedMarkers(img, corners, ids, (0, 255, 0))\n",
    "        cv2.imwrite(\"detected_arucos.jpg\", img)\n",
    "    except :\n",
    "        print(\"No Arucos detected\")"
   ]
  },
  {
   "cell_type": "code",
   "execution_count": 13,
   "metadata": {},
   "outputs": [],
   "source": [
    "def realtime_detection(cam_id : int) :\n",
    "    cam = cv2.VideoCapture(cam_id)\n",
    "    img = None #le C m'a matrixé\n",
    "    rst = False\n",
    "    while True :\n",
    "        if keyboard.is_pressed('q') :\n",
    "            break\n",
    "        rst, img = cam.read()\n",
    "        if rst :\n",
    "            cv2.imwrite(\"webcam.jpg\", img)\n",
    "            display_arucos(img)\n",
    "            time.sleep(0.2)\n",
    "    \n",
    "    cam.release()"
   ]
  },
  {
   "cell_type": "code",
   "execution_count": 18,
   "metadata": {},
   "outputs": [
    {
     "name": "stdout",
     "output_type": "stream",
     "text": [
      "Dected Arucos: \n",
      "No Arucos detected\n"
     ]
    },
    {
     "ename": "KeyboardInterrupt",
     "evalue": "",
     "output_type": "error",
     "traceback": [
      "\u001b[1;31m---------------------------------------------------------------------------\u001b[0m",
      "\u001b[1;31mKeyboardInterrupt\u001b[0m                         Traceback (most recent call last)",
      "\u001b[1;32mValrobotik\\k-r1bou2025-ZDC\\aruco_detection.ipynb Cell 4\u001b[0m line \u001b[0;36m1\n\u001b[1;32m----> <a href='vscode-notebook-cell://github/Valrobotik/k-r1bou2025-ZDC/aruco_detection.ipynb#X11sdnNjb2RlLXZmcw%3D%3D?line=0'>1</a>\u001b[0m realtime_detection(\u001b[39m0\u001b[39;49m)\n",
      "\u001b[1;32mValrobotik\\k-r1bou2025-ZDC\\aruco_detection.ipynb Cell 4\u001b[0m line \u001b[0;36m1\n\u001b[0;32m     <a href='vscode-notebook-cell://github/Valrobotik/k-r1bou2025-ZDC/aruco_detection.ipynb#X11sdnNjb2RlLXZmcw%3D%3D?line=9'>10</a>\u001b[0m         cv2\u001b[39m.\u001b[39mimwrite(\u001b[39m\"\u001b[39m\u001b[39mwebcam.jpg\u001b[39m\u001b[39m\"\u001b[39m, img)\n\u001b[0;32m     <a href='vscode-notebook-cell://github/Valrobotik/k-r1bou2025-ZDC/aruco_detection.ipynb#X11sdnNjb2RlLXZmcw%3D%3D?line=10'>11</a>\u001b[0m         display_arucos(img)\n\u001b[1;32m---> <a href='vscode-notebook-cell://github/Valrobotik/k-r1bou2025-ZDC/aruco_detection.ipynb#X11sdnNjb2RlLXZmcw%3D%3D?line=11'>12</a>\u001b[0m         time\u001b[39m.\u001b[39msleep(\u001b[39m0.2\u001b[39m)\n\u001b[0;32m     <a href='vscode-notebook-cell://github/Valrobotik/k-r1bou2025-ZDC/aruco_detection.ipynb#X11sdnNjb2RlLXZmcw%3D%3D?line=13'>14</a>\u001b[0m cam\u001b[39m.\u001b[39mrelease()\n",
      "\u001b[1;31mKeyboardInterrupt\u001b[0m: "
     ]
    }
   ],
   "source": [
    "realtime_detection(0)"
   ]
  }
 ],
 "metadata": {
  "kernelspec": {
   "display_name": "Python 3",
   "language": "python",
   "name": "python3"
  },
  "language_info": {
   "codemirror_mode": {
    "name": "ipython",
    "version": 3
   },
   "file_extension": ".py",
   "mimetype": "text/x-python",
   "name": "python",
   "nbconvert_exporter": "python",
   "pygments_lexer": "ipython3",
   "version": "3.11.4"
  },
  "orig_nbformat": 4
 },
 "nbformat": 4,
 "nbformat_minor": 2
}
