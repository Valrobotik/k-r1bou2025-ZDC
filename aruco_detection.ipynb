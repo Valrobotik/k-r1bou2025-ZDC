{
 "cells": [
  {
   "cell_type": "code",
   "execution_count": 14,
   "metadata": {},
   "outputs": [],
   "source": [
    "import cv2\n",
    "import time\n",
    "from IPython.display import clear_output\n",
    "import keyboard"
   ]
  },
  {
   "cell_type": "code",
   "execution_count": 15,
   "metadata": {},
   "outputs": [],
   "source": [
    "def recognize_arucos(img) :\n",
    "    arucoDict = cv2.aruco.getPredefinedDictionary(cv2.aruco.DICT_4X4_50)\n",
    "    params = cv2.aruco.DetectorParameters()\n",
    "    detector = cv2.aruco.ArucoDetector(arucoDict, params)\n",
    "    (corners, ids, rejected) = detector.detectMarkers(img)\n",
    "    return corners, ids, rejected\n",
    "\n",
    "def display_arucos(img) :\n",
    "    corners, ids, rejected = recognize_arucos(img)\n",
    "    clear_output(wait=True)\n",
    "    print(\"Detected Arucos: \")\n",
    "    try :\n",
    "        for i in range(len(ids)) :\n",
    "            print(\"ID: \", ids[i])\n",
    "            #print(\"Corners: \", corners[i])\n",
    "            print()\n",
    "        print(\"Rejected :\")\n",
    "        for i in range(len(rejected)) :\n",
    "            #print(\"ID: \", rejected[i])\n",
    "            pass\n",
    "        cv2.aruco.drawDetectedMarkers(img, corners, ids, (0, 255, 0))\n",
    "        cv2.imwrite(\"detected_arucos.jpg\", img)\n",
    "    except :\n",
    "        #print(\"No Arucos detected\")\n",
    "        pass"
   ]
  },
  {
   "cell_type": "code",
   "execution_count": 16,
   "metadata": {},
   "outputs": [],
   "source": [
    "def realtime_detection(cam_id : int) :\n",
    "    cam = cv2.VideoCapture(cam_id)\n",
    "    img = None #le C m'a matrixé \n",
    "    rst = False\n",
    "    while True :\n",
    "        if keyboard.is_pressed('q') :\n",
    "            break\n",
    "        rst, img = cam.read()\n",
    "        if rst :\n",
    "            cv2.imwrite(\"webcam.jpg\", img)\n",
    "            display_arucos(img)\n",
    "            time.sleep(0.2)\n",
    "    \n",
    "    cam.release()"
   ]
  },
  {
   "cell_type": "code",
   "execution_count": 17,
   "metadata": {},
   "outputs": [
    {
     "name": "stdout",
     "output_type": "stream",
     "text": [
      "Detected Arucos: \n"
     ]
    }
   ],
   "source": [
    "realtime_detection(0)"
   ]
  }
 ],
 "metadata": {
  "kernelspec": {
   "display_name": "Python 3",
   "language": "python",
   "name": "python3"
  },
  "language_info": {
   "codemirror_mode": {
    "name": "ipython",
    "version": 3
   },
   "file_extension": ".py",
   "mimetype": "text/x-python",
   "name": "python",
   "nbconvert_exporter": "python",
   "pygments_lexer": "ipython3",
   "version": "3.11.3"
  },
  "orig_nbformat": 4
 },
 "nbformat": 4,
 "nbformat_minor": 2
}
